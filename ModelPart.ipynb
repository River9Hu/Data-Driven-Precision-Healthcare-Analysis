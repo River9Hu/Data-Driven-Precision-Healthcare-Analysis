{
 "cells": [
  {
   "cell_type": "code",
   "execution_count": 1,
   "metadata": {},
   "outputs": [
    {
     "data": {
      "text/html": [
       "<style>.container { width:98% !important; }</style>"
      ],
      "text/plain": [
       "<IPython.core.display.HTML object>"
      ]
     },
     "metadata": {},
     "output_type": "display_data"
    }
   ],
   "source": [
    "import pandas as pd\n",
    "import numpy as np\n",
    "import matplotlib.pyplot as plt\n",
    "import os\n",
    "import json\n",
    "import glob\n",
    "from scipy import stats\n",
    "%matplotlib inline\n",
    "from IPython.core.display import display, HTML\n",
    "display(HTML(\"<style>.container { width:98% !important; }</style>\")) \n",
    "import warnings\n",
    "warnings.filterwarnings('ignore')\n",
    "os.environ[\"CUDA_VISIBLE_DEVICES\"]=\"0\""
   ]
  },
  {
   "cell_type": "code",
   "execution_count": 6,
   "metadata": {},
   "outputs": [],
   "source": [
    "data = pd.read_csv('~/Desktop/Capstone/imputed_data_1316.csv')"
   ]
  },
  {
   "cell_type": "code",
   "execution_count": 8,
   "metadata": {},
   "outputs": [],
   "source": [
    "data.set_index('SEQN',inplace=True)"
   ]
  },
  {
   "cell_type": "code",
   "execution_count": 9,
   "metadata": {},
   "outputs": [
    {
     "name": "stdout",
     "output_type": "stream",
     "text": [
      "<class 'pandas.core.frame.DataFrame'>\n",
      "Float64Index: 11466 entries, 73557.0 to 93702.0\n",
      "Columns: 166 entries, RIAGENDR to MCQ160M\n",
      "dtypes: float64(166)\n",
      "memory usage: 14.6 MB\n"
     ]
    }
   ],
   "source": [
    "data.info()"
   ]
  },
  {
   "cell_type": "code",
   "execution_count": 10,
   "metadata": {},
   "outputs": [],
   "source": [
    "features = data.drop('MCQ160M',axis=1)\n",
    "label = data['MCQ160M']"
   ]
  },
  {
   "cell_type": "code",
   "execution_count": 11,
   "metadata": {},
   "outputs": [],
   "source": [
    "#split train-test sample\n",
    "from sklearn.model_selection import train_test_split\n",
    "#cross-validation param tuning\n",
    "from sklearn.model_selection import GridSearchCV \n",
    "#model performace metrics\n",
    "from itertools import cycle\n",
    "from sklearn import metrics\n",
    "from sklearn.metrics import recall_score\n",
    "from sklearn.metrics import roc_curve, auc\n",
    "from sklearn.metrics import roc_auc_score"
   ]
  },
  {
   "cell_type": "code",
   "execution_count": 15,
   "metadata": {},
   "outputs": [],
   "source": [
    "#Train test split\n",
    "x_train, x_test, y_train, y_test = train_test_split(features, label, test_size=0.2, random_state=10)"
   ]
  },
  {
   "cell_type": "markdown",
   "metadata": {},
   "source": [
    "##### Logistic Regression"
   ]
  },
  {
   "cell_type": "code",
   "execution_count": 13,
   "metadata": {},
   "outputs": [],
   "source": [
    "from sklearn.linear_model import LogisticRegression\n",
    "logreg = LogisticRegression(penalty = 'l1', class_weight = 'balanced',solver='liblinear')"
   ]
  },
  {
   "cell_type": "code",
   "execution_count": 16,
   "metadata": {},
   "outputs": [
    {
     "data": {
      "text/plain": [
       "LogisticRegression(C=1.0, class_weight='balanced', dual=False,\n",
       "          fit_intercept=True, intercept_scaling=1, max_iter=100,\n",
       "          multi_class='ovr', n_jobs=1, penalty='l1', random_state=None,\n",
       "          solver='liblinear', tol=0.0001, verbose=0, warm_start=False)"
      ]
     },
     "execution_count": 16,
     "metadata": {},
     "output_type": "execute_result"
    }
   ],
   "source": [
    "#Train default\n",
    "logreg.fit(x_train, y_train)"
   ]
  },
  {
   "cell_type": "code",
   "execution_count": 18,
   "metadata": {},
   "outputs": [
    {
     "name": "stdout",
     "output_type": "stream",
     "text": [
      "accuracy is 0.7013949433304272\n",
      "recall is [0.71176471 0.61811024]\n"
     ]
    },
    {
     "data": {
      "text/plain": [
       "0.7327292728114869"
      ]
     },
     "execution_count": 18,
     "metadata": {},
     "output_type": "execute_result"
    },
    {
     "data": {
      "image/png": "[encoded data removed]",
      "text/plain": [
       "<Figure size 432x288 with 1 Axes>"
      ]
     },
     "metadata": {
      "needs_background": "light"
     },
     "output_type": "display_data"
    }
   ],
   "source": [
    "#Default Performance\n",
    "y_pred_logreg = logreg.predict(x_test)\n",
    "acc_logreg= logreg.score(x_test, y_test)\n",
    "y_pred_logreg = logreg.predict(x_test)\n",
    "recall_logreg = recall_score(y_test, y_pred_logreg, average=None)\n",
    "print('accuracy is', acc_logreg)\n",
    "print('recall is', recall_logreg)\n",
    "y_score_logreg = logreg.decision_function(x_test)\n",
    "fpr, tpr, thresholds = metrics.roc_curve(y_test, y_score_logreg)\n",
    "plt.plot(fpr,tpr)\n",
    "metrics.auc(fpr,tpr)"
   ]
  },
  {
   "cell_type": "code",
   "execution_count": null,
   "metadata": {},
   "outputs": [],
   "source": [
    "#Train CV\n",
    "param_ = {'C':[0.0001,0.001,0.01,0.1,0.5,1.0]}\n",
    "cv_lr = GridSearchCV(logreg, param_grid = param_, scoring='roc_auc',cv=5)\n",
    "cv_lr.fit(x_train, y_train)"
   ]
  },
  {
   "cell_type": "code",
   "execution_count": null,
   "metadata": {},
   "outputs": [],
   "source": [
    "#CV performace\n",
    "plt.plot(list(param_.values())[0],cv_lr.cv_results_['mean_test_score'],label='test')\n",
    "plt.plot(list(param_.values())[0],cv_lr.cv_results_['mean_train_score'],label='train')\n",
    "plt.legend()\n",
    "plt.xscale('log')"
   ]
  },
  {
   "cell_type": "markdown",
   "metadata": {},
   "source": [
    "##### Linear SVC"
   ]
  },
  {
   "cell_type": "code",
   "execution_count": 19,
   "metadata": {},
   "outputs": [],
   "source": [
    "from sklearn.svm import LinearSVC\n",
    "lsvc = LinearSVC(class_weight='balanced',penalty='l1',dual=False)"
   ]
  },
  {
   "cell_type": "code",
   "execution_count": 20,
   "metadata": {},
   "outputs": [
    {
     "data": {
      "text/plain": [
       "LinearSVC(C=1.0, class_weight='balanced', dual=False, fit_intercept=True,\n",
       "     intercept_scaling=1, loss='squared_hinge', max_iter=1000,\n",
       "     multi_class='ovr', penalty='l1', random_state=None, tol=0.0001,\n",
       "     verbose=0)"
      ]
     },
     "execution_count": 20,
     "metadata": {},
     "output_type": "execute_result"
    }
   ],
   "source": [
    "#Train default\n",
    "lsvc.fit(x_train, y_train)"
   ]
  },
  {
   "cell_type": "code",
   "execution_count": 21,
   "metadata": {},
   "outputs": [
    {
     "name": "stdout",
     "output_type": "stream",
     "text": [
      "accuracy is 0.6992153443766347\n",
      "recall is [0.70784314 0.62992126]\n"
     ]
    },
    {
     "data": {
      "text/plain": [
       "0.7376659719005711"
      ]
     },
     "execution_count": 21,
     "metadata": {},
     "output_type": "execute_result"
    },
    {
     "data": {
      "image/png": "[encoded data removed]",
      "text/plain": [
       "<Figure size 432x288 with 1 Axes>"
      ]
     },
     "metadata": {
      "needs_background": "light"
     },
     "output_type": "display_data"
    }
   ],
   "source": [
    "#Default Performance\n",
    "acc_lsvc= lsvc.score(x_test, y_test)\n",
    "y_pred_lsvc = lsvc.predict(x_test)\n",
    "recall_lsvc = recall_score(y_test, y_pred_lsvc, average=None)\n",
    "print('accuracy is', acc_lsvc)\n",
    "print('recall is', recall_lsvc)\n",
    "y_score = lsvc.decision_function(x_test)\n",
    "fpr, tpr, thresholds = metrics.roc_curve(y_test, y_score)\n",
    "plt.plot(fpr,tpr)\n",
    "metrics.auc(fpr,tpr)"
   ]
  },
  {
   "cell_type": "code",
   "execution_count": null,
   "metadata": {},
   "outputs": [],
   "source": [
    "#Train CV\n",
    "param_ = {'C':[0.0001,0.001,0.01,0.1,0.5,1.0]}\n",
    "cv_lsvc = GridSearchCV(lsvc, param_grid = param_, scoring='roc_auc',cv=5)\n",
    "cv_lsvc.fit(x_train, y_train)"
   ]
  },
  {
   "cell_type": "code",
   "execution_count": null,
   "metadata": {},
   "outputs": [],
   "source": [
    "#CV performace\n",
    "plt.plot(list(param_.values())[0],cv_lsvc.cv_results_['mean_test_score'],label='test')\n",
    "plt.plot(list(param_.values())[0],cv_lsvc.cv_results_['mean_train_score'],label='train')\n",
    "plt.legend()\n",
    "plt.xscale('log')"
   ]
  },
  {
   "cell_type": "markdown",
   "metadata": {},
   "source": [
    "##### Random Forest"
   ]
  },
  {
   "cell_type": "code",
   "execution_count": 23,
   "metadata": {},
   "outputs": [],
   "source": [
    "from sklearn.ensemble import RandomForestClassifier\n",
    "rf = RandomForestClassifier(class_weight='balanced')"
   ]
  },
  {
   "cell_type": "code",
   "execution_count": 24,
   "metadata": {},
   "outputs": [
    {
     "data": {
      "text/plain": [
       "RandomForestClassifier(bootstrap=True, class_weight='balanced',\n",
       "            criterion='gini', max_depth=None, max_features='auto',\n",
       "            max_leaf_nodes=None, min_impurity_decrease=0.0,\n",
       "            min_impurity_split=None, min_samples_leaf=1,\n",
       "            min_samples_split=2, min_weight_fraction_leaf=0.0,\n",
       "            n_estimators=10, n_jobs=1, oob_score=False, random_state=None,\n",
       "            verbose=0, warm_start=False)"
      ]
     },
     "execution_count": 24,
     "metadata": {},
     "output_type": "execute_result"
    }
   ],
   "source": [
    "#Train default RF\n",
    "rf.fit(x_train, y_train)"
   ]
  },
  {
   "cell_type": "code",
   "execution_count": 26,
   "metadata": {},
   "outputs": [
    {
     "name": "stdout",
     "output_type": "stream",
     "text": [
      "accuracy is 0.8827375762859634\n",
      "recall is [0.99166667 0.00787402]\n"
     ]
    },
    {
     "data": {
      "text/plain": [
       "0.6205602516597191"
      ]
     },
     "execution_count": 26,
     "metadata": {},
     "output_type": "execute_result"
    },
    {
     "data": {
      "image/png": "[encoded data removed]",
      "text/plain": [
       "<Figure size 432x288 with 1 Axes>"
      ]
     },
     "metadata": {
      "needs_background": "light"
     },
     "output_type": "display_data"
    }
   ],
   "source": [
    "#Default Performance\n",
    "acc_rf= rf.score(x_test, y_test)\n",
    "y_pred_rf = rf.predict(x_test)\n",
    "recall_rf = recall_score(y_test, y_pred_rf, average=None)\n",
    "print('accuracy is', acc_rf)\n",
    "print('recall is', recall_rf)\n",
    "y_score = rf.predict_proba(x_test)[:,1]\n",
    "fpr, tpr, thresholds = metrics.roc_curve(y_test, y_score)\n",
    "plt.plot(fpr,tpr)\n",
    "metrics.auc(fpr,tpr)"
   ]
  },
  {
   "cell_type": "code",
   "execution_count": 35,
   "metadata": {},
   "outputs": [],
   "source": [
    "#define 2-D tuning result plot function\n",
    "def cv_result_plot(results,x_axis,y_axis,param1, param2, groupby_):\n",
    "    result_table = pd.DataFrame(results)\n",
    "    summary_table = result_table[['params', 'mean_test_score','mean_train_score','rank_test_score']]\n",
    "    fig,ax = plt.subplots()\n",
    "    result_table[param1] = [p[param1] for p in results['params']]\n",
    "    result_table[param2] = [p[param2] for p in results['params']]\n",
    "    \n",
    "    result_table.groupby(groupby_).plot(x=x_axis, y=y_axis, sharex= True, ax=ax)\n",
    "    ax.legend(list(result_table.groupby(groupby_).groups.keys()), loc=2)\n",
    "    return ax, summary_table"
   ]
  },
  {
   "cell_type": "code",
   "execution_count": 29,
   "metadata": {},
   "outputs": [
    {
     "data": {
      "text/plain": [
       "GridSearchCV(cv=5, error_score='raise',\n",
       "       estimator=RandomForestClassifier(bootstrap=True, class_weight='balanced',\n",
       "            criterion='gini', max_depth=None, max_features='auto',\n",
       "            max_leaf_nodes=None, min_impurity_decrease=0.0,\n",
       "            min_impurity_split=None, min_samples_leaf=1,\n",
       "            min_samples_split=2, min_weight_fraction_leaf=0.0,\n",
       "            n_estimators=10, n_jobs=1, oob_score=False, random_state=None,\n",
       "            verbose=0, warm_start=False),\n",
       "       fit_params=None, iid=True, n_jobs=1,\n",
       "       param_grid={'max_depth': [200, 300, 500], 'n_estimators': [200, 400, 600, 800, 1000]},\n",
       "       pre_dispatch='2*n_jobs', refit=True, return_train_score='warn',\n",
       "       scoring='roc_auc', verbose=0)"
      ]
     },
     "execution_count": 29,
     "metadata": {},
     "output_type": "execute_result"
    }
   ],
   "source": [
    "#Train CV\n",
    "param_ = {'max_depth':[200,300,500],'n_estimators':[200,400,600,800,1000]}\n",
    "cv_rf = GridSearchCV(rf, param_grid = param_, scoring='roc_auc',cv=5)\n",
    "cv_rf.fit(x_train, y_train)"
   ]
  },
  {
   "cell_type": "code",
   "execution_count": 36,
   "metadata": {},
   "outputs": [
    {
     "data": {
      "text/plain": [
       "(<matplotlib.axes._subplots.AxesSubplot at 0x1f61c55c278>,\n",
       "                                       params  mean_test_score  \\\n",
       " 0    {'max_depth': 200, 'n_estimators': 200}         0.729990   \n",
       " 1    {'max_depth': 200, 'n_estimators': 400}         0.733760   \n",
       " 2    {'max_depth': 200, 'n_estimators': 600}         0.737487   \n",
       " 3    {'max_depth': 200, 'n_estimators': 800}         0.737229   \n",
       " 4   {'max_depth': 200, 'n_estimators': 1000}         0.737230   \n",
       " 5    {'max_depth': 300, 'n_estimators': 200}         0.726392   \n",
       " 6    {'max_depth': 300, 'n_estimators': 400}         0.734864   \n",
       " 7    {'max_depth': 300, 'n_estimators': 600}         0.732100   \n",
       " 8    {'max_depth': 300, 'n_estimators': 800}         0.736542   \n",
       " 9   {'max_depth': 300, 'n_estimators': 1000}         0.736610   \n",
       " 10   {'max_depth': 500, 'n_estimators': 200}         0.726292   \n",
       " 11   {'max_depth': 500, 'n_estimators': 400}         0.729984   \n",
       " 12   {'max_depth': 500, 'n_estimators': 600}         0.735377   \n",
       " 13   {'max_depth': 500, 'n_estimators': 800}         0.739166   \n",
       " 14  {'max_depth': 500, 'n_estimators': 1000}         0.738971   \n",
       " \n",
       "     mean_train_score  rank_test_score  \n",
       " 0                1.0               12  \n",
       " 1                1.0               10  \n",
       " 2                1.0                3  \n",
       " 3                1.0                5  \n",
       " 4                1.0                4  \n",
       " 5                1.0               14  \n",
       " 6                1.0                9  \n",
       " 7                1.0               11  \n",
       " 8                1.0                7  \n",
       " 9                1.0                6  \n",
       " 10               1.0               15  \n",
       " 11               1.0               13  \n",
       " 12               1.0                8  \n",
       " 13               1.0                1  \n",
       " 14               1.0                2  )"
      ]
     },
     "execution_count": 36,
     "metadata": {},
     "output_type": "execute_result"
    },
    {
     "data": {
      "image/png": "[encoded data removed]",
      "text/plain": [
       "<Figure size 432x288 with 1 Axes>"
      ]
     },
     "metadata": {
      "needs_background": "light"
     },
     "output_type": "display_data"
    }
   ],
   "source": [
    "#CV performace\n",
    "cv_result_plot(cv_rf.cv_results_,'max_depth','mean_test_score','max_depth', 'n_estimators', 'n_estimators')"
   ]
  },
  {
   "cell_type": "markdown",
   "metadata": {},
   "source": [
    "##### Boosting"
   ]
  },
  {
   "cell_type": "code",
   "execution_count": 38,
   "metadata": {},
   "outputs": [],
   "source": [
    "from sklearn.ensemble import GradientBoostingClassifier\n",
    "boo = GradientBoostingClassifier()"
   ]
  },
  {
   "cell_type": "code",
   "execution_count": 39,
   "metadata": {},
   "outputs": [
    {
     "data": {
      "text/plain": [
       "GradientBoostingClassifier(criterion='friedman_mse', init=None,\n",
       "              learning_rate=0.1, loss='deviance', max_depth=3,\n",
       "              max_features=None, max_leaf_nodes=None,\n",
       "              min_impurity_decrease=0.0, min_impurity_split=None,\n",
       "              min_samples_leaf=1, min_samples_split=2,\n",
       "              min_weight_fraction_leaf=0.0, n_estimators=100,\n",
       "              presort='auto', random_state=None, subsample=1.0, verbose=0,\n",
       "              warm_start=False)"
      ]
     },
     "execution_count": 39,
     "metadata": {},
     "output_type": "execute_result"
    }
   ],
   "source": [
    "boo.fit(x_train, y_train)"
   ]
  },
  {
   "cell_type": "code",
   "execution_count": 40,
   "metadata": {},
   "outputs": [
    {
     "name": "stdout",
     "output_type": "stream",
     "text": [
      "accuracy is 0.8879686137750654\n",
      "recall is [0.99754902 0.00787402]\n"
     ]
    },
    {
     "data": {
      "text/plain": [
       "0.74294040450826"
      ]
     },
     "execution_count": 40,
     "metadata": {},
     "output_type": "execute_result"
    },
    {
     "data": {
      "image/png": "[encoded data removed]",
      "text/plain": [
       "<Figure size 432x288 with 1 Axes>"
      ]
     },
     "metadata": {
      "needs_background": "light"
     },
     "output_type": "display_data"
    }
   ],
   "source": [
    "#Default Pebooormance\n",
    "acc_boo= boo.score(x_test, y_test)\n",
    "y_pred_boo = boo.predict(x_test)\n",
    "recall_boo = recall_score(y_test, y_pred_boo, average=None)\n",
    "print('accuracy is', acc_boo)\n",
    "print('recall is', recall_boo)\n",
    "y_score = boo.predict_proba(x_test)[:,1]\n",
    "fpr, tpr, thresholds = metrics.roc_curve(y_test, y_score)\n",
    "plt.plot(fpr,tpr)\n",
    "metrics.auc(fpr,tpr)"
   ]
  },
  {
   "cell_type": "code",
   "execution_count": 51,
   "metadata": {},
   "outputs": [
    {
     "data": {
      "text/plain": [
       "GridSearchCV(cv=5, error_score='raise',\n",
       "       estimator=GradientBoostingClassifier(criterion='friedman_mse', init=None,\n",
       "              learning_rate=0.1, loss='deviance', max_depth=3,\n",
       "              max_features=None, max_leaf_nodes=None,\n",
       "              min_impurity_decrease=0.0, min_impurity_split=None,\n",
       "              min_samples_leaf=1, min_samples_split=2,\n",
       "              min_weight_fraction_leaf=0.0, n_estimators=100,\n",
       "              presort='auto', random_state=None, subsample=1.0, verbose=0,\n",
       "              warm_start=False),\n",
       "       fit_params=None, iid=True, n_jobs=1,\n",
       "       param_grid={'max_depth': [2, 3, 4], 'n_estimators': [100, 200, 400]},\n",
       "       pre_dispatch='2*n_jobs', refit=True, return_train_score='warn',\n",
       "       scoring='roc_auc', verbose=0)"
      ]
     },
     "execution_count": 51,
     "metadata": {},
     "output_type": "execute_result"
    }
   ],
   "source": [
    "#Train CV\n",
    "param_ = {'max_depth':[2,3,4],'n_estimators':[100,200,400]}\n",
    "cv_boo = GridSearchCV(boo, param_grid = param_, scoring='roc_auc',cv=5)\n",
    "cv_boo.fit(x_train, y_train)"
   ]
  },
  {
   "cell_type": "code",
   "execution_count": 52,
   "metadata": {},
   "outputs": [
    {
     "data": {
      "text/plain": [
       "(<matplotlib.axes._subplots.AxesSubplot at 0x1f61c54bb70>,\n",
       "                                   params  mean_test_score  mean_train_score  \\\n",
       " 0  {'max_depth': 2, 'n_estimators': 100}         0.764265          0.831735   \n",
       " 1  {'max_depth': 2, 'n_estimators': 200}         0.760380          0.871175   \n",
       " 2  {'max_depth': 2, 'n_estimators': 400}         0.755773          0.917932   \n",
       " 3  {'max_depth': 3, 'n_estimators': 100}         0.762534          0.887095   \n",
       " 4  {'max_depth': 3, 'n_estimators': 200}         0.757075          0.937566   \n",
       " 5  {'max_depth': 3, 'n_estimators': 400}         0.749351          0.977226   \n",
       " 6  {'max_depth': 4, 'n_estimators': 100}         0.758998          0.937711   \n",
       " 7  {'max_depth': 4, 'n_estimators': 200}         0.754343          0.977723   \n",
       " 8  {'max_depth': 4, 'n_estimators': 400}         0.746580          0.993512   \n",
       " \n",
       "    rank_test_score  \n",
       " 0                1  \n",
       " 1                3  \n",
       " 2                6  \n",
       " 3                2  \n",
       " 4                5  \n",
       " 5                8  \n",
       " 6                4  \n",
       " 7                7  \n",
       " 8                9  )"
      ]
     },
     "execution_count": 52,
     "metadata": {},
     "output_type": "execute_result"
    },
    {
     "data": {
      "image/png": "[encoded data removed]",
      "text/plain": [
       "<Figure size 432x288 with 1 Axes>"
      ]
     },
     "metadata": {
      "needs_background": "light"
     },
     "output_type": "display_data"
    }
   ],
   "source": [
    "cv_result_plot(cv_boo.cv_results_,'max_depth','mean_test_score','max_depth', 'n_estimators', 'n_estimators')"
   ]
  },
  {
   "cell_type": "code",
   "execution_count": 54,
   "metadata": {},
   "outputs": [],
   "source": [
    "best_boo = cv_boo.best_estimator_"
   ]
  },
  {
   "cell_type": "code",
   "execution_count": 59,
   "metadata": {},
   "outputs": [
    {
     "name": "stdout",
     "output_type": "stream",
     "text": [
      "accuracy is 0.8888404533565823\n",
      "recall is [0.99803922 0.01181102]\n"
     ]
    },
    {
     "data": {
      "text/plain": [
       "0.7427068859039678"
      ]
     },
     "execution_count": 59,
     "metadata": {},
     "output_type": "execute_result"
    },
    {
     "data": {
      "image/png": "[encoded data removed]",
      "text/plain": [
       "<Figure size 432x288 with 1 Axes>"
      ]
     },
     "metadata": {
      "needs_background": "light"
     },
     "output_type": "display_data"
    }
   ],
   "source": [
    "acc_boo= best_boo.score(x_test, y_test)\n",
    "y_pred_boo = best_boo.predict(x_test)\n",
    "recall_boo = recall_score(y_test, y_pred_boo, average=None)\n",
    "print('accuracy is', acc_boo)\n",
    "print('recall is', recall_boo)\n",
    "y_score = best_boo.predict_proba(x_test)[:,1]\n",
    "fpr, tpr, thresholds = metrics.roc_curve(y_test, y_score)\n",
    "plt.plot(fpr,tpr)\n",
    "metrics.auc(fpr,tpr)"
   ]
  },
  {
   "cell_type": "code",
   "execution_count": 56,
   "metadata": {},
   "outputs": [
    {
     "data": {
      "text/plain": [
       "GridSearchCV(cv=5, error_score='raise',\n",
       "       estimator=GradientBoostingClassifier(criterion='friedman_mse', init=None,\n",
       "              learning_rate=0.1, loss='deviance', max_depth=3,\n",
       "              max_features=None, max_leaf_nodes=None,\n",
       "              min_impurity_decrease=0.0, min_impurity_split=None,\n",
       "              min_samples_leaf=1, min_samples_split=2,\n",
       "              min_weight_fraction_leaf=0.0, n_estimators=100,\n",
       "              presort='auto', random_state=None, subsample=1.0, verbose=0,\n",
       "              warm_start=False),\n",
       "       fit_params=None, iid=True, n_jobs=1,\n",
       "       param_grid={'max_depth': [2, 3, 4], 'n_estimators': [80, 90, 100]},\n",
       "       pre_dispatch='2*n_jobs', refit=True, return_train_score='warn',\n",
       "       scoring='roc_auc', verbose=0)"
      ]
     },
     "execution_count": 56,
     "metadata": {},
     "output_type": "execute_result"
    }
   ],
   "source": [
    "param_ = {'max_depth':[2,3,4],'n_estimators':[80,90,100]}\n",
    "cv_boo_2 = GridSearchCV(boo, param_grid = param_, scoring='roc_auc',cv=5)\n",
    "cv_boo_2.fit(x_train, y_train)"
   ]
  },
  {
   "cell_type": "code",
   "execution_count": 57,
   "metadata": {
    "scrolled": true
   },
   "outputs": [
    {
     "data": {
      "text/plain": [
       "(<matplotlib.axes._subplots.AxesSubplot at 0x1f61c679d30>,\n",
       "                                   params  mean_test_score  mean_train_score  \\\n",
       " 0   {'max_depth': 2, 'n_estimators': 80}         0.764642          0.821169   \n",
       " 1   {'max_depth': 2, 'n_estimators': 90}         0.764497          0.826244   \n",
       " 2  {'max_depth': 2, 'n_estimators': 100}         0.764302          0.831735   \n",
       " 3   {'max_depth': 3, 'n_estimators': 80}         0.762682          0.873037   \n",
       " 4   {'max_depth': 3, 'n_estimators': 90}         0.762542          0.880005   \n",
       " 5  {'max_depth': 3, 'n_estimators': 100}         0.761425          0.887115   \n",
       " 6   {'max_depth': 4, 'n_estimators': 80}         0.760795          0.923224   \n",
       " 7   {'max_depth': 4, 'n_estimators': 90}         0.760077          0.929677   \n",
       " 8  {'max_depth': 4, 'n_estimators': 100}         0.759307          0.937613   \n",
       " \n",
       "    rank_test_score  \n",
       " 0                1  \n",
       " 1                2  \n",
       " 2                3  \n",
       " 3                4  \n",
       " 4                5  \n",
       " 5                6  \n",
       " 6                7  \n",
       " 7                8  \n",
       " 8                9  )"
      ]
     },
     "execution_count": 57,
     "metadata": {},
     "output_type": "execute_result"
    },
    {
     "data": {
      "image/png": "[encoded data removed]",
      "text/plain": [
       "<Figure size 432x288 with 1 Axes>"
      ]
     },
     "metadata": {
      "needs_background": "light"
     },
     "output_type": "display_data"
    }
   ],
   "source": [
    "cv_result_plot(cv_boo_2.cv_results_,'max_depth','mean_test_score','max_depth', 'n_estimators', 'n_estimators')"
   ]
  },
  {
   "cell_type": "markdown",
   "metadata": {},
   "source": [
    "##### Neural Network"
   ]
  },
  {
   "cell_type": "code",
   "execution_count": 60,
   "metadata": {},
   "outputs": [
    {
     "name": "stdout",
     "output_type": "stream",
     "text": [
      "accuracy is 0.8892763731473409\n",
      "recall is [0.99901961 0.00787402]\n"
     ]
    },
    {
     "data": {
      "text/plain": [
       "0.7435772734290566"
      ]
     },
     "execution_count": 60,
     "metadata": {},
     "output_type": "execute_result"
    },
    {
     "data": {
      "image/png": "[encoded data removed]",
      "text/plain": [
       "<Figure size 432x288 with 1 Axes>"
      ]
     },
     "metadata": {
      "needs_background": "light"
     },
     "output_type": "display_data"
    }
   ],
   "source": [
    "best_boo_2 = cv_boo_2.best_estimator_\n",
    "acc_boo= best_boo_2.score(x_test, y_test)\n",
    "y_pred_boo = best_boo_2.predict(x_test)\n",
    "recall_boo = recall_score(y_test, y_pred_boo, average=None)\n",
    "print('accuracy is', acc_boo)\n",
    "print('recall is', recall_boo)\n",
    "y_score = best_boo_2.predict_proba(x_test)[:,1]\n",
    "fpr, tpr, thresholds = metrics.roc_curve(y_test, y_score)\n",
    "plt.plot(fpr,tpr)\n",
    "metrics.auc(fpr,tpr)"
   ]
  },
  {
   "cell_type": "code",
   "execution_count": null,
   "metadata": {},
   "outputs": [],
   "source": []
  }
 ],
 "metadata": {
  "kernelspec": {
   "display_name": "Python 3",
   "language": "python",
   "name": "python3"
  },
  "language_info": {
   "codemirror_mode": {
    "name": "ipython",
    "version": 3
   },
   "file_extension": ".py",
   "mimetype": "text/x-python",
   "name": "python",
   "nbconvert_exporter": "python",
   "pygments_lexer": "ipython3",
   "version": "3.7.0"
  }
 },
 "nbformat": 4,
 "nbformat_minor": 2
}
