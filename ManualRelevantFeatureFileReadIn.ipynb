{
 "cells": [
  {
   "cell_type": "code",
   "execution_count": 1,
   "metadata": {},
   "outputs": [
    {
     "data": {
      "text/html": [
       "<style>.container { width:98% !important; }</style>"
      ],
      "text/plain": [
       "<IPython.core.display.HTML object>"
      ]
     },
     "metadata": {},
     "output_type": "display_data"
    }
   ],
   "source": [
    "import pandas as pd\n",
    "import numpy as np\n",
    "import matplotlib.pyplot as plt\n",
    "import os\n",
    "import json\n",
    "import glob\n",
    "from scipy import stats\n",
    "%matplotlib inline\n",
    "from IPython.core.display import display, HTML\n",
    "display(HTML(\"<style>.container { width:98% !important; }</style>\")) \n",
    "import warnings\n",
    "warnings.filterwarnings('ignore')"
   ]
  },
  {
   "cell_type": "code",
   "execution_count": 2,
   "metadata": {},
   "outputs": [],
   "source": [
    "#Gender\n",
    "#Age\n",
    "#Race/Hispanic origin w/ NH Asian\n",
    "#DMDMARTL - Marital status\n",
    "#RIDEXPRG - Pregnancy status at exam\n",
    "#INDHHIN2 - Annual household income\n",
    "#oral_health is only to get fluoride\n",
    "#OHQ566 - Received Rx fluoride drops or tablets?\n",
    "#OHQ571Q - Age started taking prescription fluoride\n",
    "#LBDPFL - Fluoride, plasma (umol/L) average 2\n",
    "#KIQ022 - Ever told you had weak/failing kidneys\n",
    "#KIQ026 - Ever had kidney stones?\n",
    "#KIQ480 - How many times urinate in night?\n",
    "#repeated index rows, not use first:medication = pd.read_sas('~/Desktop/CapstoneData/raw_data/2015-2016/Questionnaire/RXQ_RX_I.xpt',index= 'SEQN')"
   ]
  },
  {
   "cell_type": "code",
   "execution_count": 3,
   "metadata": {},
   "outputs": [],
   "source": [
    "#Sleeptime pre-process(only in 1516 data, sleeptime not used)\n",
    "# sleep = pd.read_sas('~/Desktop/CapstoneData/raw_data/2015-2016/Questionnaire/SLQ_I.xpt',index= 'SEQN')\n",
    "# sleep['SLQ300'] = sleep['SLQ300'].str.decode(encoding=\"utf-8\")\n",
    "# sleep['SLQ310'] = sleep['SLQ310'].str.decode(encoding=\"utf-8\")\n",
    "# sleep.loc[sleep['SLQ300']=='99999','SLQ300'] = float('Nan')\n",
    "# sleep.loc[sleep['SLQ310']=='99999','SLQ310'] = float('Nan')\n",
    "# sleep_time = pd.to_datetime(sleep['SLQ300']).dt.hour + pd.to_datetime(sleep['SLQ300']).dt.minute/60\n",
    "# wake_time = pd.to_datetime(sleep['SLQ310']).dt.hour + pd.to_datetime(sleep['SLQ310']).dt.minute/60\n",
    "# sleep['SLQ300'] = sleep_time\n",
    "# sleep['SLQ310'] = wake_time\n",
    "#sleep.info()"
   ]
  },
  {
   "cell_type": "code",
   "execution_count": 4,
   "metadata": {},
   "outputs": [],
   "source": [
    "demo = pd.read_sas('~/Desktop/CapstoneData/raw_data/2015-2016/Demographics/DEMO_I.xpt',index= 'SEQN')\n",
    "demo = demo[['RIAGENDR','RIDAGEYR','RIDRETH3','DMDMARTL','RIDEXPRG','INDHHIN2']]"
   ]
  },
  {
   "cell_type": "code",
   "execution_count": 5,
   "metadata": {},
   "outputs": [],
   "source": [
    "mental_health = pd.read_sas('~/Desktop/CapstoneData/raw_data/2015-2016/Questionnaire/DPQ_I.xpt',index= 'SEQN')"
   ]
  },
  {
   "cell_type": "code",
   "execution_count": 6,
   "metadata": {},
   "outputs": [],
   "source": [
    "hepatitis = pd.read_sas('~/Desktop/CapstoneData/raw_data/2015-2016/Questionnaire/HEQ_I.xpt',index= 'SEQN')"
   ]
  },
  {
   "cell_type": "code",
   "execution_count": 7,
   "metadata": {},
   "outputs": [],
   "source": [
    "disability = pd.read_sas('~/Desktop/CapstoneData/raw_data/2015-2016/Questionnaire/DLQ_I.xpt',index= 'SEQN')"
   ]
  },
  {
   "cell_type": "code",
   "execution_count": 8,
   "metadata": {},
   "outputs": [],
   "source": [
    "sleep = pd.read_sas('~/Desktop/CapstoneData/raw_data/2015-2016/Questionnaire/SLQ_I.xpt',index= 'SEQN')"
   ]
  },
  {
   "cell_type": "code",
   "execution_count": 9,
   "metadata": {},
   "outputs": [],
   "source": [
    "oral_health = pd.read_sas('~/Desktop/CapstoneData/raw_data/2015-2016/Questionnaire/OHQ_I.xpt',index= 'SEQN')\n",
    "fluoride = oral_health[['OHQ566', 'OHQ571Q']]\n",
    "fluoride_water = pd.read_sas('~/Desktop/CapstoneData/raw_data/2015-2016/Laboratory/FLDEW_I.xpt',index= 'SEQN')\n",
    "fluoride_plasma = pd.read_sas('~/Desktop/CapstoneData/raw_data/2015-2016/Laboratory/FLDEP_I.xpt',index= 'SEQN')"
   ]
  },
  {
   "cell_type": "code",
   "execution_count": 10,
   "metadata": {},
   "outputs": [],
   "source": [
    "blood_metals = pd.read_sas('~/Desktop/CapstoneData/raw_data/2015-2016/Laboratory/PBCD_I.xpt',index= 'SEQN')\n",
    "CuSeZn = pd.read_sas('~/Desktop/CapstoneData/raw_data/2015-2016/Laboratory/CUSEZN_I.xpt',index= 'SEQN')"
   ]
  },
  {
   "cell_type": "code",
   "execution_count": 11,
   "metadata": {},
   "outputs": [],
   "source": [
    "medical_condition = pd.read_sas('~/Desktop/CapstoneData/raw_data/2015-2016/Questionnaire/MCQ_I.xpt',index= 'SEQN')\n",
    "liver = medical_condition[['MCQ160L','MCQ170L']]\n",
    "kidney = pd.read_sas('~/Desktop/CapstoneData/raw_data/2015-2016/Questionnaire/KIQ_U_I.xpt',index= 'SEQN')\n",
    "kidney = kidney[['KIQ022','KIQ026','KIQ480']]"
   ]
  },
  {
   "cell_type": "code",
   "execution_count": 12,
   "metadata": {},
   "outputs": [],
   "source": [
    "dietary = pd.read_sas('~/Desktop/CapstoneData/raw_data/2015-2016/Dietary/DR1TOT_I.xpt',index='SEQN')"
   ]
  },
  {
   "cell_type": "code",
   "execution_count": 13,
   "metadata": {},
   "outputs": [],
   "source": [
    "label = medical_condition['MCQ160M']"
   ]
  },
  {
   "cell_type": "code",
   "execution_count": 14,
   "metadata": {},
   "outputs": [],
   "source": [
    "data = pd.concat([label,demo,mental_health, hepatitis, disability, sleep, fluoride, fluoride_water, fluoride_plasma, blood_metals, CuSeZn, liver, kidney, dietary], join='outer',axis=1, sort=False)"
   ]
  },
  {
   "cell_type": "code",
   "execution_count": 15,
   "metadata": {},
   "outputs": [
    {
     "name": "stdout",
     "output_type": "stream",
     "text": [
      "(5708, 239)\n",
      "<class 'pandas.core.frame.DataFrame'>\n",
      "Float64Index: 5708 entries, 83732.0 to 93702.0\n",
      "Columns: 239 entries, MCQ160M to DRD370V\n",
      "dtypes: float64(237), object(2)\n",
      "memory usage: 10.5+ MB\n"
     ]
    }
   ],
   "source": [
    "data = data.loc[(data['MCQ160M']==1) | (data['MCQ160M']==2)]\n",
    "data.loc[data['MCQ160M']==2,'MCQ160M'] = 0 \n",
    "print(data.shape)\n",
    "data.info()"
   ]
  },
  {
   "cell_type": "code",
   "execution_count": 16,
   "metadata": {},
   "outputs": [],
   "source": [
    "data.to_csv('~/Desktop/Capstone/ManualSelect1516.csv')"
   ]
  }
 ],
 "metadata": {
  "kernelspec": {
   "display_name": "Python 3",
   "language": "python",
   "name": "python3"
  },
  "language_info": {
   "codemirror_mode": {
    "name": "ipython",
    "version": 3
   },
   "file_extension": ".py",
   "mimetype": "text/x-python",
   "name": "python",
   "nbconvert_exporter": "python",
   "pygments_lexer": "ipython3",
   "version": "3.7.0"
  }
 },
 "nbformat": 4,
 "nbformat_minor": 2
}
