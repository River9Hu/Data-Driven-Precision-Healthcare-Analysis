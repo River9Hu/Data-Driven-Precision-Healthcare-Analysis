{
 "cells": [
  {
   "cell_type": "code",
   "execution_count": 2,
   "metadata": {},
   "outputs": [
    {
     "data": {
      "text/html": [
       "<style>.container { width:98% !important; }</style>"
      ],
      "text/plain": [
       "<IPython.core.display.HTML object>"
      ]
     },
     "metadata": {},
     "output_type": "display_data"
    }
   ],
   "source": [
    "import pandas as pd\n",
    "import numpy as np\n",
    "import matplotlib.pyplot as plt\n",
    "import os\n",
    "import json\n",
    "import glob\n",
    "from scipy import stats\n",
    "%matplotlib inline\n",
    "from IPython.core.display import display, HTML\n",
    "display(HTML(\"<style>.container { width:98% !important; }</style>\")) \n",
    "import warnings\n",
    "warnings.filterwarnings('ignore')"
   ]
  },
  {
   "cell_type": "code",
   "execution_count": 3,
   "metadata": {},
   "outputs": [],
   "source": [
    "# data1516 = pd.read_csv('~/Desktop/Capstone/ManualSelect1516.csv')\n",
    "# data1516.set_index('SEQN',inplace=True)\n",
    "# data1314 = pd.read_csv('~/Desktop/Capstone/ManualSelect1314.csv')\n",
    "# data1314.set_index('SEQN',inplace=True)"
   ]
  },
  {
   "cell_type": "code",
   "execution_count": 37,
   "metadata": {},
   "outputs": [],
   "source": [
    "data1314= pd.read_csv('~/Desktop/Capstone/all_features_original_1314.csv')"
   ]
  },
  {
   "cell_type": "code",
   "execution_count": 38,
   "metadata": {},
   "outputs": [],
   "source": [
    "data1516= pd.read_csv('~/Desktop/Capstone/all_features_original_1516.csv')"
   ]
  },
  {
   "cell_type": "code",
   "execution_count": 51,
   "metadata": {},
   "outputs": [],
   "source": [
    "def get_different_columns(datasetList):\n",
    "    colList = {}\n",
    "    for i in range(len(datasetList)):\n",
    "        colList[i]=(set(datasetList[i].columns))\n",
    "    common = colList[0]\n",
    "    for s in colList.values():\n",
    "        common = common&s\n",
    "    special={}\n",
    "    for i in range(len(colList)):\n",
    "        special[i] = colList[i] - common\n",
    "    return common, special"
   ]
  },
  {
   "cell_type": "code",
   "execution_count": 52,
   "metadata": {},
   "outputs": [],
   "source": [
    "common , special = get_different_columns([data1314,data1516])"
   ]
  },
  {
   "cell_type": "code",
   "execution_count": 53,
   "metadata": {},
   "outputs": [
    {
     "name": "stdout",
     "output_type": "stream",
     "text": [
      "<class 'pandas.core.frame.DataFrame'>\n",
      "Int64Index: 11466 entries, 0 to 5707\n",
      "Columns: 1333 entries, SEQN to LBDVXYLC.1\n",
      "dtypes: float64(1256), int64(1), object(76)\n",
      "memory usage: 116.7+ MB\n"
     ]
    }
   ],
   "source": [
    "data = pd.concat([data1314,data1516],axis=0,join='inner')\n",
    "data.info()"
   ]
  },
  {
   "cell_type": "code",
   "execution_count": 54,
   "metadata": {},
   "outputs": [],
   "source": [
    "data.set_index('SEQN',inplace=True)"
   ]
  },
  {
   "cell_type": "code",
   "execution_count": 55,
   "metadata": {},
   "outputs": [],
   "source": [
    "#print unsat feature by percentage threshold(unsaturated%)\n",
    "def print_unsat_features(dataset, threshold):\n",
    "    num = dataset.shape[0]*threshold\n",
    "    for col in dataset.columns:\n",
    "        missing = features[col].isnull().sum()\n",
    "        if missing>num:\n",
    "            print(col, missing)\n",
    "    return\n",
    "#print_unsat_features(features, 0.6)"
   ]
  },
  {
   "cell_type": "markdown",
   "metadata": {},
   "source": [
    "##### 1. Drop under-saturated data"
   ]
  },
  {
   "cell_type": "code",
   "execution_count": 56,
   "metadata": {},
   "outputs": [
    {
     "name": "stdout",
     "output_type": "stream",
     "text": [
      "<class 'pandas.core.frame.DataFrame'>\n",
      "Int64Index: 11466 entries, 73557 to 93702\n",
      "Columns: 730 entries, ACD011A to LBDVXYLC.1\n",
      "dtypes: float64(654), object(76)\n",
      "memory usage: 63.9+ MB\n"
     ]
    }
   ],
   "source": [
    "#drop unsat feature by percentage threshold(unsaturated%)\n",
    "def drop_unsat_features(dataset, threshold):\n",
    "    droplist = []\n",
    "    num = dataset.shape[0]*threshold\n",
    "    for col in dataset.columns:\n",
    "        missing = dataset[col].isnull().sum()\n",
    "        if missing>num:\n",
    "            droplist.append(col)\n",
    "    sat_data=dataset.drop(droplist,axis=1)\n",
    "    return sat_data\n",
    "sat_data = drop_unsat_features(data, 0.6)\n",
    "sat_data.info()"
   ]
  },
  {
   "cell_type": "markdown",
   "metadata": {},
   "source": [
    "##### 2. Data Imputation by mean for continuos, mode for dicrete variables"
   ]
  },
  {
   "cell_type": "code",
   "execution_count": 60,
   "metadata": {},
   "outputs": [],
   "source": [
    "#threshold of unique values to categorize feature into discrete and continuous variable\n",
    "def imputation(dataset, threshold):\n",
    "    imputed_dataset = dataset.copy()\n",
    "    for col in dataset:\n",
    "        #discrete by mode\n",
    "        if imputed_dataset[col].nunique()<=threshold:\n",
    "            imputed_dataset[col] = imputed_dataset[col].fillna(imputed_dataset[col].mode().iloc[0])\n",
    "        #non-numeric feature type by mode:\n",
    "        elif imputed_dataset[col].dtype != 'float' and imputed_dataset[col].dtype != 'int':\n",
    "            imputed_dataset[col] = imputed_dataset[col].fillna(imputed_dataset[col].mode().iloc[0])\n",
    "        #continous by mean\n",
    "        else:\n",
    "            imputed_dataset[col] = imputed_dataset[col].fillna(imputed_dataset[col].mean())\n",
    "    return imputed_dataset\n",
    "imputed_data = imputation(sat_data,20)"
   ]
  },
  {
   "cell_type": "code",
   "execution_count": 61,
   "metadata": {},
   "outputs": [],
   "source": [
    "imputed_data.to_csv('~/Desktop/Capstone/imputed_all_data_1316.csv')"
   ]
  },
  {
   "cell_type": "code",
   "execution_count": 62,
   "metadata": {},
   "outputs": [
    {
     "name": "stdout",
     "output_type": "stream",
     "text": [
      "<class 'pandas.core.frame.DataFrame'>\n",
      "Int64Index: 11466 entries, 73557 to 93702\n",
      "Columns: 730 entries, ACD011A to LBDVXYLC.1\n",
      "dtypes: float64(654), object(76)\n",
      "memory usage: 63.9+ MB\n"
     ]
    }
   ],
   "source": [
    "imputed_data.info()"
   ]
  },
  {
   "cell_type": "code",
   "execution_count": null,
   "metadata": {},
   "outputs": [],
   "source": []
  }
 ],
 "metadata": {
  "kernelspec": {
   "display_name": "Python 3",
   "language": "python",
   "name": "python3"
  },
  "language_info": {
   "codemirror_mode": {
    "name": "ipython",
    "version": 3
   },
   "file_extension": ".py",
   "mimetype": "text/x-python",
   "name": "python",
   "nbconvert_exporter": "python",
   "pygments_lexer": "ipython3",
   "version": "3.7.0"
  }
 },
 "nbformat": 4,
 "nbformat_minor": 2
}
