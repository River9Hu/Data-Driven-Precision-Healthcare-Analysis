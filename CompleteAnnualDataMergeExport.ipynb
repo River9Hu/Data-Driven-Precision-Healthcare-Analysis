{
 "cells": [
  {
   "cell_type": "code",
   "execution_count": 1,
   "metadata": {},
   "outputs": [],
   "source": [
    "import pandas as pd\n",
    "import numpy as np\n",
    "import matplotlib.pyplot as plt\n",
    "import os\n",
    "import json\n",
    "import glob\n",
    "from scipy import stats\n",
    "%matplotlib inline"
   ]
  },
  {
   "cell_type": "code",
   "execution_count": 2,
   "metadata": {},
   "outputs": [
    {
     "data": {
      "text/html": [
       "<style>.container { width:98% !important; }</style>"
      ],
      "text/plain": [
       "<IPython.core.display.HTML object>"
      ]
     },
     "metadata": {},
     "output_type": "display_data"
    }
   ],
   "source": [
    "from IPython.core.display import display, HTML\n",
    "display(HTML(\"<style>.container { width:98% !important; }</style>\")) "
   ]
  },
  {
   "cell_type": "code",
   "execution_count": 3,
   "metadata": {},
   "outputs": [],
   "source": [
    "#check sklearn version\n",
    "# import sklearn\n",
    "# sklearn.__version__"
   ]
  },
  {
   "cell_type": "code",
   "execution_count": 4,
   "metadata": {},
   "outputs": [],
   "source": [
    "#Def function to read all XPT data in a file into a dictionary contains all dataframes\n",
    "def readXPT(path):\n",
    "    dataset = {}\n",
    "    path = os.path.join(path)\n",
    "    filenames = glob.glob(path + '/*.XPT')\n",
    "    \n",
    "    for filename in filenames:\n",
    "        dfname = filename.split('/')[-1]\n",
    "        df = pd.read_sas(filename)\n",
    "        df['SEQN'] = df['SEQN'].astype(int)\n",
    "        df.set_index('SEQN', inplace=True)\n",
    "        dataset[dfname] = df\n",
    "\n",
    "    return dataset"
   ]
  },
  {
   "cell_type": "code",
   "execution_count": 5,
   "metadata": {},
   "outputs": [],
   "source": [
    "#Def function to read all XPT data in a file into a dictionary contains all dataframes\n",
    "#And report any error(file does not contain 'SEQN' column)\n",
    "def readXPT2(path):\n",
    "    dataset = {}\n",
    "    path = os.path.join(path)\n",
    "    filenames = glob.glob(path + '/*.XPT')\n",
    "    \n",
    "    for filename in filenames:\n",
    "        try:\n",
    "            dfname = filename.split('/')[-1]\n",
    "            df = pd.read_sas(filename)\n",
    "            df['SEQN'] = df['SEQN'].astype(int)\n",
    "            df.set_index('SEQN', inplace=True)\n",
    "            dataset[dfname] = df\n",
    "        except:\n",
    "            print(filename)\n",
    "\n",
    "    return dataset"
   ]
  },
  {
   "cell_type": "code",
   "execution_count": 6,
   "metadata": {},
   "outputs": [],
   "source": [
    "#Def function to merge all dataframes of XPT files into one dataframe\n",
    "def mergeXPT(dataset):\n",
    "    data = pd.concat(dataset.values(), join = 'outer', axis=1, sort=False)\n",
    "    return data"
   ]
  },
  {
   "cell_type": "code",
   "execution_count": 7,
   "metadata": {},
   "outputs": [
    {
     "name": "stdout",
     "output_type": "stream",
     "text": [
      "/Users/Bing Hu/Desktop/CapstoneData/raw_data/2015-2016/Questionnaire\\RXQ_DRUG.xpt\n"
     ]
    }
   ],
   "source": [
    "Questionnaire = readXPT2('/Users/Bing Hu/Desktop/CapstoneData/raw_data/2015-2016/Questionnaire')"
   ]
  },
  {
   "cell_type": "code",
   "execution_count": 8,
   "metadata": {},
   "outputs": [],
   "source": [
    "Demo = readXPT('/Users/Bing Hu/Desktop/CapstoneData/raw_data/2015-2016/Demographics')"
   ]
  },
  {
   "cell_type": "code",
   "execution_count": 9,
   "metadata": {},
   "outputs": [],
   "source": [
    "Exam = readXPT('/Users/Bing Hu/Desktop/CapstoneData/raw_data/2015-2016/Examination')"
   ]
  },
  {
   "cell_type": "code",
   "execution_count": 10,
   "metadata": {},
   "outputs": [],
   "source": [
    "Lab = readXPT('/Users/Bing Hu/Desktop/CapstoneData/raw_data/2015-2016/Laboratory')"
   ]
  },
  {
   "cell_type": "code",
   "execution_count": 11,
   "metadata": {},
   "outputs": [],
   "source": [
    "Questionnaire = mergeXPT(Questionnaire)\n",
    "Demo = mergeXPT(Demo)\n",
    "Exam = mergeXPT(Exam)\n",
    "Lab = mergeXPT(Lab)"
   ]
  },
  {
   "cell_type": "code",
   "execution_count": 12,
   "metadata": {},
   "outputs": [],
   "source": [
    "#Merge data from different folders\n",
    "All = pd.concat([Questionnaire, Exam, Demo,Lab], axis=1, join='outer', sort= False)"
   ]
  },
  {
   "cell_type": "code",
   "execution_count": 13,
   "metadata": {
    "scrolled": false
   },
   "outputs": [
    {
     "data": {
      "text/plain": [
       "(9971, 1451)"
      ]
     },
     "execution_count": 13,
     "metadata": {},
     "output_type": "execute_result"
    }
   ],
   "source": [
    "All.shape"
   ]
  },
  {
   "cell_type": "code",
   "execution_count": 14,
   "metadata": {
    "scrolled": true
   },
   "outputs": [
    {
     "name": "stdout",
     "output_type": "stream",
     "text": [
      "<class 'pandas.core.frame.DataFrame'>\n",
      "Int64Index: 5708 entries, 83732 to 93702\n",
      "Columns: 1447 entries, ACD011A to LBDVXYLC\n",
      "dtypes: float64(1369), object(78)\n",
      "memory usage: 63.1+ MB\n"
     ]
    }
   ],
   "source": [
    "#Drop non-labelled samples & Separate Label and Predictor\n",
    "All = All[(All['MCQ160M']==1) | (All['MCQ160M']==2)]\n",
    "\n",
    "#Obtain Response Variable\n",
    "result = All['MCQ160M']\n",
    "result[result==2] = 0\n",
    "\n",
    "#Drop features directly related to thyroid\n",
    "features = All.drop(['MCQ170M','MCQ180M','MCQ240BB','MCQ160M'],axis=1)\n",
    "\n",
    "features.info()"
   ]
  },
  {
   "cell_type": "code",
   "execution_count": 15,
   "metadata": {},
   "outputs": [],
   "source": [
    "All.to_csv('~/Desktop/Capstone/all_features_1516.csv')"
   ]
  }
 ],
 "metadata": {
  "kernelspec": {
   "display_name": "Python 3",
   "language": "python",
   "name": "python3"
  },
  "language_info": {
   "codemirror_mode": {
    "name": "ipython",
    "version": 3
   },
   "file_extension": ".py",
   "mimetype": "text/x-python",
   "name": "python",
   "nbconvert_exporter": "python",
   "pygments_lexer": "ipython3",
   "version": "3.7.0"
  }
 },
 "nbformat": 4,
 "nbformat_minor": 2
}
